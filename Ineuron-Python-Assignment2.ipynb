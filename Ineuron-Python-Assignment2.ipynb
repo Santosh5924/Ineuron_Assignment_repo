{
 "cells": [
  {
   "cell_type": "markdown",
   "metadata": {},
   "source": [
    "1.**Create the below pattern using nested for loop in Python.**\n"
   ]
  },
  {
   "cell_type": "code",
   "execution_count": 40,
   "metadata": {},
   "outputs": [
    {
     "name": "stdout",
     "output_type": "stream",
     "text": [
      "Enter Number of rows :5\n",
      " *\n",
      " * *\n",
      " * * *\n",
      " * * * *\n",
      " * * * * *\n",
      " * * * *\n",
      " * * *\n",
      " * *\n",
      " *\n",
      "\n"
     ]
    }
   ],
   "source": [
    "rows=int(input(\"Enter Number of rows :\"))\n",
    "for i in range(rows):\n",
    "    print(\" *\" * (i+1))\n",
    "for j in range(rows):\n",
    "    print(\" *\" * (rows-j-1))"
   ]
  },
  {
   "cell_type": "markdown",
   "metadata": {},
   "source": [
    "2.**2. Write a Python program to reverse a word after accepting the input from the user.**"
   ]
  },
  {
   "cell_type": "code",
   "execution_count": 45,
   "metadata": {},
   "outputs": [
    {
     "name": "stdout",
     "output_type": "stream",
     "text": [
      "Enter any string:santosh\n",
      "hsotnas\n"
     ]
    }
   ],
   "source": [
    "#program using slicing \n",
    "name=input(\"Enter any string:\")\n",
    "print(name[::-1])"
   ]
  },
  {
   "cell_type": "code",
   "execution_count": 49,
   "metadata": {},
   "outputs": [
    {
     "name": "stdout",
     "output_type": "stream",
     "text": [
      "Enter any word:sam\n",
      "reverse string : mas\n"
     ]
    }
   ],
   "source": [
    "#program using without slicing\n",
    "def reverse(string):\n",
    "    rev_str=\"\"\n",
    "    for i in string:\n",
    "        rev_str=i+rev_str\n",
    "    print(\"reverse string :\",rev_str)\n",
    "        \n",
    "string=input(\"Enter any word:\")\n",
    "reverse(string)"
   ]
  },
  {
   "cell_type": "code",
   "execution_count": null,
   "metadata": {},
   "outputs": [],
   "source": []
  },
  {
   "cell_type": "code",
   "execution_count": null,
   "metadata": {},
   "outputs": [],
   "source": []
  }
 ],
 "metadata": {
  "kernelspec": {
   "display_name": "Python 3",
   "language": "python",
   "name": "python3"
  },
  "language_info": {
   "codemirror_mode": {
    "name": "ipython",
    "version": 3
   },
   "file_extension": ".py",
   "mimetype": "text/x-python",
   "name": "python",
   "nbconvert_exporter": "python",
   "pygments_lexer": "ipython3",
   "version": "3.8.5"
  }
 },
 "nbformat": 4,
 "nbformat_minor": 4
}
